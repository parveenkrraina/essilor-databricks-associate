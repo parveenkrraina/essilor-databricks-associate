{
 "cells": [
  {
   "cell_type": "code",
   "execution_count": 0,
   "metadata": {
    "application/vnd.databricks.v1+cell": {
     "cellMetadata": {
      "byteLimit": 2048000,
      "rowLimit": 10000
     },
     "inputWidgets": {},
     "nuid": "fbb747c2-49b8-4c43-83c6-36d9126ad6c9",
     "showTitle": false,
     "tableResultSettingsMap": {},
     "title": ""
    }
   },
   "outputs": [],
   "source": [
    "from pyspark.sql.functions import col, sum as _sum, row_number\n",
    "from pyspark.sql.window import Window\n",
    "\n",
    "# Load cleaned sales Delta table or DataFrame\n",
    "sales_df = spark.table(\"sales_delta_cleaned\")  # Or replace with cleaned DataFrame if needed\n"
   ]
  },
  {
   "cell_type": "code",
   "execution_count": 0,
   "metadata": {
    "application/vnd.databricks.v1+cell": {
     "cellMetadata": {
      "byteLimit": 2048000,
      "rowLimit": 10000
     },
     "inputWidgets": {},
     "nuid": "8687aeaa-a47d-40cd-b483-5f2f78c0cd26",
     "showTitle": false,
     "tableResultSettingsMap": {},
     "title": ""
    }
   },
   "outputs": [],
   "source": [
    "customers_df = spark.read.format(\"csv\") \\\n",
    "    .option(\"header\", True) \\\n",
    "    .option(\"inferSchema\", True) \\\n",
    "    .load(\"dbfs:/FileStore/shared_uploads/parveen.r@live.com/customer_demographics.csv\")"
   ]
  },
  {
   "cell_type": "code",
   "execution_count": 0,
   "metadata": {
    "application/vnd.databricks.v1+cell": {
     "cellMetadata": {
      "byteLimit": 2048000,
      "rowLimit": 10000
     },
     "inputWidgets": {},
     "nuid": "61fd97ad-bfb0-46ab-81d2-706f2c557878",
     "showTitle": false,
     "tableResultSettingsMap": {},
     "title": ""
    }
   },
   "outputs": [],
   "source": [
    "# Show sample customer data\n",
    "print(\"Customer demographics sample:\")\n",
    "display(customers_df.limit(5))\n"
   ]
  },
  {
   "cell_type": "code",
   "execution_count": 0,
   "metadata": {
    "application/vnd.databricks.v1+cell": {
     "cellMetadata": {
      "byteLimit": 2048000,
      "rowLimit": 10000
     },
     "inputWidgets": {},
     "nuid": "f9c6b6b3-7ecd-4c38-a7f2-52bb7d9ff0a8",
     "showTitle": false,
     "tableResultSettingsMap": {},
     "title": ""
    }
   },
   "outputs": [],
   "source": [
    "# Join sales with customers on CustomerName\n",
    "joined_df = sales_df.join(customers_df, on=\"CustomerName\", how=\"inner\")\n",
    "print(\"Joined data sample:\")\n",
    "display(joined_df.limit(5))"
   ]
  },
  {
   "cell_type": "code",
   "execution_count": 0,
   "metadata": {
    "application/vnd.databricks.v1+cell": {
     "cellMetadata": {
      "byteLimit": 2048000,
      "rowLimit": 10000
     },
     "inputWidgets": {},
     "nuid": "2a97e344-89d9-4787-becc-68a03b3e4a32",
     "showTitle": false,
     "tableResultSettingsMap": {},
     "title": ""
    }
   },
   "outputs": [],
   "source": [
    "# Aggregation: total sales and quantity by Region\n",
    "agg_region_df = joined_df.groupBy(\"Region\").agg(\n",
    "    _sum(col(\"Quantity\")).alias(\"TotalQuantity\"),\n",
    "    _sum(col(\"Quantity\") * col(\"UnitPrice\")).alias(\"TotalSales\")\n",
    ").orderBy(col(\"TotalSales\").desc())\n",
    "\n",
    "print(\"Aggregated sales by region:\")\n",
    "display(agg_region_df.limit(5))"
   ]
  },
  {
   "cell_type": "code",
   "execution_count": 0,
   "metadata": {
    "application/vnd.databricks.v1+cell": {
     "cellMetadata": {
      "byteLimit": 2048000,
      "rowLimit": 10000
     },
     "inputWidgets": {},
     "nuid": "83bf386f-8776-4329-aa49-835fd31ea39f",
     "showTitle": false,
     "tableResultSettingsMap": {},
     "title": ""
    }
   },
   "outputs": [],
   "source": [
    "# Window function: rank customers by total sales within each region\n",
    "window_spec = Window.partitionBy(\"Region\").orderBy(col(\"TotalSales\").desc())\n",
    "\n",
    "customer_sales_df = joined_df.groupBy(\"Region\", \"CustomerName\").agg(\n",
    "    _sum(col(\"Quantity\") * col(\"UnitPrice\")).alias(\"TotalSales\")\n",
    ")\n",
    "\n",
    "ranked_df = customer_sales_df.withColumn(\"SalesRank\", row_number().over(window_spec))\n",
    "\n",
    "print(\"Top customers ranked by sales within each region:\")\n",
    "display(ranked_df.orderBy(\"Region\", \"SalesRank\").limit(20))"
   ]
  },
  {
   "cell_type": "code",
   "execution_count": 0,
   "metadata": {
    "application/vnd.databricks.v1+cell": {
     "cellMetadata": {},
     "inputWidgets": {},
     "nuid": "da25761f-748f-4646-9178-85325364b5e4",
     "showTitle": false,
     "tableResultSettingsMap": {},
     "title": ""
    }
   },
   "outputs": [],
   "source": []
  }
 ],
 "metadata": {
  "application/vnd.databricks.v1+notebook": {
   "computePreferences": null,
   "dashboards": [],
   "environmentMetadata": {
    "base_environment": "",
    "environment_version": "2"
   },
   "inputWidgetPreferences": null,
   "language": "python",
   "notebookMetadata": {
    "pythonIndentUnit": 4
   },
   "notebookName": "Complex Transformation",
   "widgets": {}
  },
  "language_info": {
   "name": "python"
  }
 },
 "nbformat": 4,
 "nbformat_minor": 0
}